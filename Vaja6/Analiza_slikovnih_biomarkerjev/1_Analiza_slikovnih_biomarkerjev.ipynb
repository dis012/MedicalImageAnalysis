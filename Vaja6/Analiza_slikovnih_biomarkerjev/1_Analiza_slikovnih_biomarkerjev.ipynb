{
 "cells": [
  {
   "cell_type": "markdown",
   "metadata": {
    "nbgrader": {
     "grade": false,
     "grade_id": "cell-957422b2fd8e3029",
     "locked": true,
     "schema_version": 3,
     "solution": false,
     "task": false
    }
   },
   "source": [
    "# Analiza slikovnih biomarkerjev\n",
    "\n",
    "## Klinični kontekst: ocena tveganja rupture  možganske anevrizme\n",
    "\n",
    "Intrakranialne anevrizme, ki se pojavljajo v 3,2% svetovne populacije (1 na 30 ljudi) se razvijejo po 40. letu starosti. Med bolniki z diagnosticirano anevrizmo je med 10% in 15% takih, ki imajo dve anevrizmi. Večina anevrizem je majhnih, z diametrom od 3 do 20 mm, med 50% do 80% anevrizem pa nikoli ne rupturira. \n",
    "\n",
    "Večje anevrizme (višina kupole $\\gt$ 7 mm) se splača zdraviti s kirurškim posegom, in to čim prej, medtem ko za male anevrizme (višina kupole $\\gt$ 5 mm) velja, da je tveganje rupture bistveno nižje kot tveganje medoperativnih zapletov. Pri manjših anevrizmah je tveganja rupture majhno, vendar pa je to tveganje bistveno povečano v primeru, da anevrizma raste ([Slika 1](#fig_growth). Zato sta tako zgodnje odkrivanje kot sledenje razvoju majhnih anevrizem zelo pomembna za določanje optimalnega zdravljenja. Na podlagi morfološke analize anevrizem iz CTA (tudi 3D-DSA in MRA) slik lahko razvijemo slikovne prognostične in nadomestne biomarkerje ter pripadajoče klinične smernice za zaznavo in ukrepanje ob potencialno usodnem razraščanju anevrizme.\n",
    "\n",
    "Pri vaji bomo obravnavali slikovne biomarkerje intrakranialnih anevrizem in njihovo vrednost za napovedovanje in spremljanje rasti anevrizme.\n",
    "\n",
    "<a id='fig_growth'></a>\n",
    "### Slika 1: Ocenjevanje tveganja rupture možganske anevrizme\n",
    "<img src=\"images/AMS_7_SLO_Anevrizme.png\" alt=\"Ocenjevanje tveganja rupture možganske anevrizme\" align=\"left\" style=\"float;width: 800px;\"/>\n",
    "\n",
    "Površina anevrizme izluščena iz osnovne (*zgoraj*) in sledeče (*spodaj*) CTA preiskave. Puščice označujejo področje rasti, ki predstavlja visoko tveganje za pogosto usodno rupturno anevrizme."
   ]
  },
  {
   "cell_type": "markdown",
   "metadata": {
    "nbgrader": {
     "grade": false,
     "grade_id": "cell-2277f784e3de0c8c",
     "locked": true,
     "schema_version": 3,
     "solution": false,
     "task": false
    }
   },
   "source": [
    "## Navodila\n",
    "\n",
    "Medicinske slikovne tehnike z digitalizacijo postajajo vedno bolj kritično orodje za zgodnjo diagnozo, spremljanje bolezni in odziva na zdravljenje. Omogočajo boljše razumevanje bioloških osnov bolezni, ki skupaj z novimi tehnikami analize teh slik spodbuja tudi uporabo novih parametrov bolezni. \n",
    "\n",
    "Takoimenovani **slikovni biomarker** kodira neko lastnost opazovane anatomije, ki jo lahko objektivno izmerimo na podlagi slik, njegova vrednost pa odraža biološko, funkcionalno ali strukturno organizacijo te anatomije. Ločimo:\n",
    "  - napovedni biomarker (*ang. prognostic biomarker*), ki lahko napove potek bolezni in je neodvisen od terapije, \n",
    "  - pokazalnik zdravljenja (*ang. treatment effect modifier*), ki lahko napove uspešnost terapije, \n",
    "  - nadomestni biomarker (*ang. surrogate biomarker*), ki napove potek bolezni glede na izbrano terapijo. \n",
    "\n",
    "Razvoj biomarkerjev zahteva multidisciplinarno sodelovanje, saj so potrebna tako znanja biologije, medicine in klinične prakse, tehnična in metodološka znanja, znanja statistike ter končne inovacije in integracije v kliničnem okolju. Proces razvoja biomarkerjev je prikazan na [Sliki 2](#fig_biomarker_dev).\n",
    "\n",
    "<a id='fig_biomarker_dev'></a>\n",
    "### Slika 2: Proces razvoja biomarkerjev\n",
    "<img src=\"images/AMS_7_SLO_RazvojBiomarkerjev.png\" alt=\"Proces razvoja biomarkerjev\" align=\"left\" style=\"float;width: 800px;\"/>"
   ]
  },
  {
   "cell_type": "markdown",
   "metadata": {
    "nbgrader": {
     "grade": false,
     "grade_id": "cell-be9f92030d78c624",
     "locked": true,
     "schema_version": 3,
     "solution": false,
     "task": false
    }
   },
   "source": [
    "Pomemben del razvoja slikovnih biomarkerjev predstavlja njihovo vrednotenje, in sicer vrednotenje natančnosti, točnosti, ponovljivost, reprodukcije, itd. V ta namen potrebujemo tudi natančno in zanesljivo referenčno informacijo ali *zlati standard*, ki je pridobljen na relevantni zbirki slik. Slike za vrednotenje naj bodo zajete tako, da čim bolje odražajo situacijo v klinični praksi. \n",
    "\n",
    "Pri vrednotenju biomarkerjev si pomagamo z vizualnimi orodji: \n",
    "  - **škatelnimi diagrami** za vizualizacijo porazdelitev vrednosti biomarkerjev, npr. med preiskovalno in kontrolno skupino bolnikov ([Slika 3a](#fig_analysis)), \n",
    "  - **ROC krivuljami** (*ang. Receiver Operatic Characteristic*) za prikaz kakovosti razvrščanja z biomarkerjem ([Slika 3b](#fig_analysis))\n",
    "  - **Bland&ndash;Altman diagrami** za vrednotenje ponovljivosti in reproducibilnost ([Slika 3c](#fig_analysis)).\n",
    "  \n",
    "Računska orodja vključujejo statistične teste (t-test, parni t-test, Wilcoxon rank-sum in signed-rank test, itd.) in mere učinkovitosti modelov, kot naprimer AUC (*ang. area under ROC curve*). S temi orodji dokazujemo dejansko delovanje in učinkovitost biomarkerjev, ki dajo odgovor na pomembno klinično vprašanje.\n",
    "\n",
    "<a id='fig_analysis'></a>\n",
    "### Slika 3: Vizualna orodja za vrednotenje biomarkerjev\n",
    "\n",
    "<table style=\"width:100%\" bgcolor=\"#FFFFFF\" align=\"center\">\n",
    "  <tr>\n",
    "    <th><img src=\"images/AMS_7_ENG_boxplot.png\" alt=\"Škatelni diagram\" style=\"float;left;width: 400px;\"/></th>\n",
    "    <th><img src=\"images/AMS_7_ENG_roc.png\" alt=\"ROC krivulja\" style=\"float;left;width: 400px;\"/></th>            \n",
    "  </tr>\n",
    "  <tr>\n",
    "    <td style=\"text-align:center\">(a)</td>\n",
    "    <td style=\"text-align:center\">(b)</td>    \n",
    "  </tr>\n",
    "  <tr>  \n",
    "    <th><img src=\"images/AMS_7_ENG_bland-altman.png\" alt=\"Bland-Altman diagram\" style=\"float;left;width: 400px;\"/></th>            \n",
    "  </tr>\n",
    "  <tr>\n",
    "    <td style=\"text-align:center\">(c)</td>\n",
    "    <td style=\"text-align:center\"></td>    \n",
    "  </tr>\n",
    "</table>"
   ]
  },
  {
   "cell_type": "markdown",
   "metadata": {
    "nbgrader": {
     "grade": false,
     "grade_id": "cell-ad012e0781817ce5",
     "locked": true,
     "schema_version": 3,
     "solution": false,
     "task": false
    }
   },
   "source": [
    "### Gradivo\n",
    "\n",
    "Gradivo za vajo vsebuje datoteko `data.p` s kvantitativnimi meritvami možganskih anevrizem za 20 bolnikov. Vsak bolnik ima dve CTA preiskavi, iz vsake pa je bilo z ročnim in avtomatskim postopkom izluščenih šest morfoloških meritev anevrizme ($AD$, $H_{max}$, $AR$, $V$, $AVSV$, $AASA$). Nevroradiolog je na podlagi analize CTA slik izdelal zlati standard tako, da je za vsako anevrizmo opredelil stanje *ne raste*/*raste* z ustrezno binarno spremenljivko 0/1.\n",
    "\n",
    "Datoteko `data.p` lahko enostavno naložite v Python z uporabo knjižnice `pickle` z ukazom `load()`, pri čemer boste dobili spremenljivko tipa `dict`, ki je vsebuje na prvem nivoju tri ključe `biomarkers`+, `manual`+ in `auto`, ki podajajo vrstni red in oznake meritev, ročne in avtomatske meritve. Meritve so podane za vsakega bolnika v obliki spremenljike tipa `dict`, ki vsebuje štiri ključe `bvals`, `fvals`, `grow` in `dyears`, kjer prva dva ključa vsebujeta meritve prve in sledeče preiskave, tretji binarno vrednost ali anevrizma raste in četrti razliko med preiskavama v letih. Struktura datoteke prikazana v obliki drevesne strukture:\n",
    "\n",
    "<a id='fig_struktura_pickle'></a>\n",
    "### Slika 4: Struktura podatkov v datoteki `pickle`\n",
    "<img src=\"images/AMS_7_SLO_struktura_pickle.png\" alt=\"Struktura podatkov v datoteki pickle\" align=\"left\" style=\"float;width: 700px;\"/>"
   ]
  },
  {
   "cell_type": "markdown",
   "metadata": {
    "nbgrader": {
     "grade": false,
     "grade_id": "cell-d82012d6c1d30f4e",
     "locked": true,
     "schema_version": 3,
     "solution": false,
     "task": false
    }
   },
   "source": [
    "### Python moduli in knjižnice"
   ]
  },
  {
   "cell_type": "code",
   "execution_count": null,
   "metadata": {},
   "outputs": [],
   "source": [
    "import os\n",
    "import shutil\n",
    "import numpy as np\n",
    "import SimpleITK as itk\n",
    "from scipy.ndimage import convolve\n",
    "\n",
    "from os.path import join\n",
    "\n",
    "import matplotlib.pyplot as plt\n",
    "import numpy as np\n",
    "import pickle\n",
    "\n",
    "import pylab \n",
    "import scipy.stats as stats\n",
    "from scipy.stats import ttest_rel, ttest_ind, wilcoxon, mannwhitneyu, shapiro\n",
    "from datetime import datetime as dt\n",
    "from sklearn.metrics import roc_curve, auc"
   ]
  },
  {
   "cell_type": "markdown",
   "metadata": {
    "nbgrader": {
     "grade": false,
     "grade_id": "cell-3fb30e427d785add",
     "locked": true,
     "schema_version": 3,
     "solution": false,
     "task": false
    }
   },
   "source": [
    "Nalaganje podatkov:"
   ]
  },
  {
   "cell_type": "code",
   "execution_count": null,
   "metadata": {},
   "outputs": [],
   "source": [
    "data = pickle.load(open('data/data.p', 'rb'))\n",
    "print(data['biomarkers'])"
   ]
  },
  {
   "cell_type": "markdown",
   "metadata": {
    "nbgrader": {
     "grade": false,
     "grade_id": "cell-997ca942092a76d8",
     "locked": true,
     "schema_version": 3,
     "solution": false,
     "task": false
    }
   },
   "source": [
    "## Naloge"
   ]
  },
  {
   "cell_type": "markdown",
   "metadata": {
    "nbgrader": {
     "grade": false,
     "grade_id": "cell-85a60a18b1a5cbcb",
     "locked": true,
     "schema_version": 3,
     "solution": false,
     "task": false
    }
   },
   "source": [
    "1. Pripravite funkcijo za nalaganje vrednosti meritev izbranega biomarkerja s podpisom:\n",
    "```python\n",
    "def loadBiomarkerData(iData, iBiomarker, iWhichValues, iWhichMethod):\n",
    "    return oPos, oNeg\n",
    "```\n",
    "\n",
    "  pri čemer `iData` predstavlja podatke v spremenljivki tipa `dict`, parametri `iBiomarker`, `iWhichValues`, `iWhichMethod` pa določajo oznako biomarkerja, katerega vrednosti želimo, izbiro vrednosti za prvo ali sledečo preiskavo (`bvals`, `fvals`) in izbiro postopka (`manual`, `auto`). Funkcija naj v izhodnih spremeljivkah `oPos` in `oNeg` v obliki seznama `list` vrne vrednosti za anevrizme, ki rastejo in tiste ki ne (pozitivni/negativni vzorci).\n",
    "\n",
    "  Preverite delovanje funkcije s podatki v dani datoteki `data.p`."
   ]
  },
  {
   "cell_type": "code",
   "execution_count": null,
   "metadata": {},
   "outputs": [],
   "source": [
    "def loadBiomarkerData(iData, iBiomarker, iWhichValues, iWhichMethod):\n",
    "    idx = data['biomarkers'].index(iBiomarker.lower())\n",
    "    oPos = [v[iWhichValues][idx] for (k, v) in data[iWhichMethod].items() if v['grow']]\n",
    "    oNeg = [v[iWhichValues][idx] for (k, v) in data[iWhichMethod].items() if not v['grow']]\n",
    "    return oPos, oNeg"
   ]
  },
  {
   "cell_type": "markdown",
   "metadata": {
    "nbgrader": {
     "grade": false,
     "grade_id": "cell-35895c4b5503e234",
     "locked": true,
     "schema_version": 3,
     "solution": false,
     "task": false
    }
   },
   "source": [
    "  Preizkus funkcije:"
   ]
  },
  {
   "cell_type": "code",
   "execution_count": null,
   "metadata": {
    "scrolled": true
   },
   "outputs": [],
   "source": [
    "# izberi biomarker za prikaz numeričnih vrednosti\n",
    "biomarker = 'aasa'\n",
    "\n",
    "p, n = loadBiomarkerData(data, biomarker, 'bvals', 'auto')\n",
    "print('Vrednosti {} za pozitivne primere'.format(biomarker.upper()))\n",
    "print(p)\n",
    "\n",
    "print('Vrednosti {}  za negativne primere'.format(biomarker.upper()))\n",
    "print(n)"
   ]
  },
  {
   "cell_type": "markdown",
   "metadata": {
    "nbgrader": {
     "grade": false,
     "grade_id": "cell-bae2da99f6a8d350",
     "locked": true,
     "schema_version": 3,
     "solution": false,
     "task": false
    }
   },
   "source": [
    "2. Napišite funkcijo za prikaz para škatelnih diagramov ločeno za pozitivne in negativne vzorce in izračun statistične signifikance/značilnosti s t-testom:\n",
    "```python\n",
    "def analysisBoxplots(iBiomarker, iPos, iNeg, iAxes=None):\n",
    "    # create plots here\n",
    "```\n",
    "kjer parameter `iBiomarker` podaja oznako biomarkerja, spremeljivki `iPos` in `iNeg` pa vrednosti pozitivnih in negativnih vzorcev v obliki seznama `list`. Parameter `iAxes` naj ima privzeto vrednost `None` oz. naj podaja indeks osi za risanje škatelnih diagramov. Slednje narišete s klicem funkcije `boxplot()` v Python knjižnici `matplotlib.pyplot`. Statistično značilnost oz. $p$-vrednost $t$-testa lahko izračunate s funkcijo `ttest_ind` v Python knjižnici `scipy.stats`.\n",
    "\n",
    "  Preizkusite delovanje funkcije s podatki v dani datoteki `data.p` tako, da izrišete škatelne diagrame in izračunate $p$-vrednost za prvotne vrednosti biomarkerja $AR$ in $AASA$, določene z avtomatskim postopkom.  \n",
    "\n",
    "  Preverite tudi **statistično značilnost** oz. $p$-vrednost tudi z neparametričnim Mann-Whitney U-testom, ki jo dobite z uporabo funkcije `mannwhitneyu` v Python knjižnici `scipy.stats`.\n",
    "  \n",
    "  Kakšne so predpostavke $t$-testa in Man-Whitney testa? Kakšni sta $H_0$ in $H_A$? \n",
    "  Z ustreznim statističnim testom preverite predpostavko o normalnosti vzorcev. Vizualno ocenite normalnost še z izrisom grafa kvantilov ([Q-Q plot](https://en.wikipedia.org/wiki/Q%E2%80%93Q_plot))."
   ]
  },
  {
   "cell_type": "code",
   "execution_count": null,
   "metadata": {},
   "outputs": [],
   "source": [
    "def analysisBoxplots(iBiomarker, iPos, iNeg, iAxis=None):\n",
    "    # Your Code Here"
   ]
  },
  {
   "cell_type": "markdown",
   "metadata": {
    "nbgrader": {
     "grade": false,
     "grade_id": "cell-480703461bd0e280",
     "locked": true,
     "schema_version": 3,
     "solution": false,
     "task": false
    }
   },
   "source": [
    "  Preizkus funkcije:"
   ]
  },
  {
   "cell_type": "code",
   "execution_count": null,
   "metadata": {},
   "outputs": [],
   "source": [
    "plt.close('all')\n",
    "f, (ax1, ax2) = plt.subplots(1, 2, figsize=(9, 3))\n",
    "\n",
    "biomarker = 'ar'\n",
    "p, n = loadBiomarkerData(data, biomarker, 'bvals', 'auto')\n",
    "analysisBoxplots(biomarker, p, n, ax1)\n",
    "\n",
    "biomarker = 'aasa'\n",
    "p, n = loadBiomarkerData(data, biomarker, 'bvals', 'auto')\n",
    "analysisBoxplots(biomarker, p, n, ax2)\n",
    "plt.show()"
   ]
  },
  {
   "cell_type": "markdown",
   "metadata": {
    "nbgrader": {
     "grade": false,
     "grade_id": "cell-feb813df0e2ecd0a",
     "locked": true,
     "schema_version": 3,
     "solution": false,
     "task": false
    }
   },
   "source": [
    "Preverjanje izpolnjevanja predpostavke o normalnosti porazdelive parametra; $N(\\bar\\mu,\\bar\\sigma)$:"
   ]
  },
  {
   "cell_type": "code",
   "execution_count": null,
   "metadata": {},
   "outputs": [],
   "source": [
    "def QQplot(vals, iAxis=None):\n",
    "    if iAxis is None:\n",
    "        plt.figure()\n",
    "        iAxis = plt.gca()\n",
    "        \n",
    "    # Statistical test for Normality. H_0: sample comes from a normal distribution\n",
    "    PVAL_THRESHOLD = 0.05\n",
    "    _, pval = shapiro(vals)\n",
    "\n",
    "    sig = ('Not Significant','Significant')[int(pval < PVAL_THRESHOLD)]\n",
    "    \n",
    "    stats.probplot(np.array(vals), dist='norm', plot=pylab)\n",
    "    iAxis.set_title(\n",
    "        'Q-Q plot, pval={pval:.2f} ({sig})'.format(\n",
    "            pval=pval,\n",
    "            sig=sig\n",
    "        ))\n",
    "    \n",
    "    # plot quantiles of the given data against the theoretical quantiles of normal distribution\n",
    "    plt.show()\n",
    "    \n",
    "QQplot(p)"
   ]
  },
  {
   "cell_type": "markdown",
   "metadata": {
    "nbgrader": {
     "grade": false,
     "grade_id": "cell-9d9c7e6cfe2dc51b",
     "locked": true,
     "schema_version": 3,
     "solution": false,
     "task": false
    }
   },
   "source": [
    "3. Napišite funkcijo za prikaz krivulje ROC in izračun površine pod krivuljo (AUC):\n",
    "```python\n",
    "def analysisROC(iBiomarker, iPos, iNeg, iAxes=None):\n",
    "    # create plots here\n",
    "```\n",
    "kjer parameter `iBiomarker` podaja oznako biomarkerja, spremeljivki `iPos` in `iNeg` pa vrednosti pozitivnih in negativnih vzorcev v obliki seznama `list`. Parameter `iAxes` naj ima privzeto vrednost `None` oz. naj podaja indeks osi za risanje ROC krivulje. Slednjo izračunate s klicem funkcije `roc_curve()` v Python knjižnici `sklearn.metrics`, AUC mero sposobnosti pa z funkcijo `auc()` v isti knjižnici.\n",
    "\n",
    "  Preizkusite delovanje funkcije s podatki v dani datoteki `data.p` tako, da izrišete ROC krivuljo in izračunate AUC vrednost za prvotne vrednosti biomarkerja $AR$ in $AASA$, določene z avtomatskim postopkom."
   ]
  },
  {
   "cell_type": "code",
   "execution_count": null,
   "metadata": {},
   "outputs": [],
   "source": [
    "def analysisROC(iBiomarker, iPos, iNeg, iAxis=None):\n",
    "    # Your Code Here"
   ]
  },
  {
   "cell_type": "markdown",
   "metadata": {
    "nbgrader": {
     "grade": false,
     "grade_id": "cell-8565430d82298670",
     "locked": true,
     "schema_version": 3,
     "solution": false,
     "task": false
    }
   },
   "source": [
    "  Preizkus funkcije:"
   ]
  },
  {
   "cell_type": "code",
   "execution_count": null,
   "metadata": {},
   "outputs": [],
   "source": [
    "plt.close('all')\n",
    "f, (ax1, ax2) = plt.subplots(1, 2, figsize=(9, 4))\n",
    "\n",
    "biomarker = 'ar'\n",
    "p, n = loadBiomarkerData(data, biomarker, 'bvals', 'auto')\n",
    "analysisROC(biomarker, p, n, ax1)\n",
    "\n",
    "biomarker = 'aasa'\n",
    "p, n = loadBiomarkerData(data, biomarker, 'bvals', 'auto')\n",
    "analysisROC(biomarker, p, n, ax2)"
   ]
  },
  {
   "cell_type": "markdown",
   "metadata": {
    "nbgrader": {
     "grade": false,
     "grade_id": "cell-be82c9c307a2e14a",
     "locked": true,
     "schema_version": 3,
     "solution": false,
     "task": false
    }
   },
   "source": [
    "4. Napišite funkcijo za prikaz Bland&ndash;Altmanovega diagrama (ang. *bias&ndash;variance plot*) med pripadajočimi meritvami z dvema različnima postopkoma:\n",
    "```python\n",
    "def analysisBlandAltman(iBiomarker, iData1, iData2, iAxes=None):\n",
    "    # create plots here\n",
    "```\n",
    "kjer parameter `iBiomarker` podaja oznako biomarkerja, spremeljivki `iData1` in `iData2` v obliki seznama `list` pa vrednosti vzorcev, pridobljene s postopkom '1' in '2'. Seznama morata imeti enako dolžino, saj podajata pripadajoče meritve. Parameter `iAxes` naj ima privzeto vrednost `None` oz. naj podaja indeks osi za risanje Bland&ndash;Altman diagrama. Slednjega izrišete v obliki razsevnega diagrama s funkcijo `scatter()` iz Python knjižnice `matplotlib.pyplot`, pri čemer na horizontalno os nanesete povprečno vrednost pripadajočih meritev, na vertikalno pa razliko. V diagram vrišite horizontalne črte pri vrednosti razlike 0 in pri $+1,96\\cdot SD$ in $-1,96\\cdot SD$, kjer $SD$ predstavlja oceno standardne deviacije razlik.\n",
    "\n",
    "  Preizkusite delovanje funkcije s podatki v dani datoteki `data.p` tako, da izrišete Bland&ndash;Altmanov diagram  za prvotne vrednosti biomarkerja $AR$ in $AASA$, določene z ročnim in avtomatskim postopkom."
   ]
  },
  {
   "cell_type": "code",
   "execution_count": null,
   "metadata": {},
   "outputs": [],
   "source": [
    "def analysisBlandAltman(iBiomarker, iData1, iData2, iAxes=None):\n",
    "    if iAxes is None:\n",
    "        plt.figure()\n",
    "        iAxes = plt.gca()\n",
    "\n",
    "    iData1    = np.asarray(iData1)\n",
    "    iData2    = np.asarray(iData2)\n",
    "    mean      = np.mean([iData1, iData2], axis=0)\n",
    "    diff      = iData1 - iData2                   # Difference between data1 and data2\n",
    "    md        = np.mean(diff)                   # Mean of the difference\n",
    "    sd        = np.std(diff, axis=0)            # Standard deviation of the difference\n",
    "\n",
    "    iAxes.scatter(mean, diff)\n",
    "    iAxes.axhline(0,            color='gray', linestyle='-',  linewidth=1)\n",
    "    iAxes.axhline(md,           color='red',  linestyle='--', linewidth=2)\n",
    "    iAxes.axhline(md + 1.96*sd, color='gray', linestyle='--', linewidth=2)\n",
    "    iAxes.axhline(md - 1.96*sd, color='gray', linestyle='--', linewidth=2)\n",
    "    iAxes.set_xlabel('Mean value')\n",
    "    iAxes.set_ylabel('Difference')\n",
    "    iAxes.set_title('{bname}, Bland-Altman (md={md:.2f}, sd={sd:.2f})'.format(\n",
    "        bname=iBiomarker.upper(), md=md, sd=sd))"
   ]
  },
  {
   "cell_type": "markdown",
   "metadata": {
    "nbgrader": {
     "grade": false,
     "grade_id": "cell-dc0e8063631ab4e4",
     "locked": true,
     "schema_version": 3,
     "solution": false,
     "task": false
    }
   },
   "source": [
    "  Preizkus funkcije:"
   ]
  },
  {
   "cell_type": "code",
   "execution_count": null,
   "metadata": {
    "scrolled": true
   },
   "outputs": [],
   "source": [
    "plt.close('all')\n",
    "f, (ax1, ax2) = plt.subplots(1, 2, figsize=(9, 4))\n",
    "\n",
    "biomarker = 'aasa'\n",
    "pa, na = loadBiomarkerData(data, biomarker, 'bvals', 'auto')\n",
    "pm, nm = loadBiomarkerData(data, biomarker, 'bvals', 'manual')\n",
    "analysisBlandAltman(biomarker, pa+na, pm+nm, ax1)\n",
    "\n",
    "biomarker = 'ar'\n",
    "pa, na = loadBiomarkerData(data, biomarker, 'bvals', 'auto')\n",
    "pm, nm = loadBiomarkerData(data, biomarker, 'bvals', 'manual')\n",
    "analysisBlandAltman(biomarker, pa+na, pm+nm, ax2)"
   ]
  },
  {
   "cell_type": "markdown",
   "metadata": {
    "nbgrader": {
     "grade": false,
     "grade_id": "cell-628a20240a06265e",
     "locked": true,
     "schema_version": 3,
     "solution": false,
     "task": false
    }
   },
   "source": [
    "5. Spoznavanje s knjižnico `pandas`. \n",
    " * Podatke o anevrizmah pretvorite v tabelo podatkov tipa `DataFrame` s stolpci `id`, `value`, `biomarker`, `method`, `grow`, `time`, `dyears`. \n",
    " * Izločite stolpec s podatki o rasti anevrizem. \n",
    " * Izločite stolpec s podatki o rasti anevrizem in identifikaciji pacientov. \n",
    " * Izločite vrstice za podatke z avtomatsko pridobljenimi meritvami.\n",
    " * Shranite podatke v datoteko tipa `.csv`."
   ]
  },
  {
   "cell_type": "code",
   "execution_count": null,
   "metadata": {
    "nbgrader": {
     "grade": false,
     "grade_id": "cell-943a8a0f6c8aa67d",
     "locked": false,
     "schema_version": 3,
     "solution": true,
     "task": false
    }
   },
   "outputs": [],
   "source": [
    "import pandas as pd\n",
    "\n",
    "    # Your Code Here"
   ]
  }
 ],
 "metadata": {
  "celltoolbar": "Create Assignment",
  "kernelspec": {
   "display_name": "Python 3",
   "language": "python",
   "name": "python3"
  },
  "language_info": {
   "codemirror_mode": {
    "name": "ipython",
    "version": 3
   },
   "file_extension": ".py",
   "mimetype": "text/x-python",
   "name": "python",
   "nbconvert_exporter": "python",
   "pygments_lexer": "ipython3",
   "version": "3.6.9"
  }
 },
 "nbformat": 4,
 "nbformat_minor": 2
}
