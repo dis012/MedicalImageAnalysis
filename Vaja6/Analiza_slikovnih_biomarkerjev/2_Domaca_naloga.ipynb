{
 "cells": [
  {
   "cell_type": "markdown",
   "metadata": {
    "nbgrader": {
     "grade": false,
     "grade_id": "cell-b4028b30f1f101df",
     "locked": true,
     "schema_version": 3,
     "solution": false,
     "task": false
    }
   },
   "source": [
    "## Sedma domača naloga\n",
    "Opravljanje domačih nalog je **obvezno**. Uspešno rešene domače naloge so **pogoj za pristop k izpitu**. Rok za oddajo je **torek, 2. januar ob 23:59**.\n",
    "\n",
    "### Gradivo\n",
    "\n",
    "Za domačo nalogo uporabite podatke kvantitativnih meritev možganskih anevrizem, vsebovanimi v datoteki `data.p`, ki smo jo uporabljali na vajah. "
   ]
  },
  {
   "cell_type": "code",
   "execution_count": null,
   "metadata": {},
   "outputs": [],
   "source": [
    "import os\n",
    "import shutil\n",
    "import numpy as np\n",
    "import SimpleITK as itk\n",
    "from scipy.ndimage import convolve\n",
    "\n",
    "from os.path import join\n",
    "\n",
    "import matplotlib.pyplot as plt\n",
    "import numpy as np\n",
    "import pickle\n",
    "\n",
    "from scipy.stats import ttest_rel, ttest_ind, wilcoxon, mannwhitneyu, probplot\n",
    "import statsmodels.api as sm\n",
    "import pylab \n",
    "from datetime import datetime as dt\n",
    "from sklearn.metrics import auc, roc_auc_score"
   ]
  },
  {
   "cell_type": "markdown",
   "metadata": {
    "nbgrader": {
     "grade": false,
     "grade_id": "cell-566dc9a8cb73a42b",
     "locked": true,
     "schema_version": 3,
     "solution": false,
     "task": false
    }
   },
   "source": [
    "1. Napišite funkcijo za izračun ROC krivulje (brez uporabe pythonovih funkcij!):\n",
    "```python\n",
    "def ROC(y_true, y_score):\n",
    "    return fpr, tpr, thresholds\n",
    "```\n",
    "kjer spremenljivka `y_true` tipa `array` predstavlja dejanske binarne vrednosti, spremenljivka `y_score`, prav tako tipa `array`,  pa vrednosti biomarkerja. Kot izhod naj poda tri spremenljivke tipa `array` in sicer: `fpr`, naraščujoč vektor deležev lažno pozitivnih primerov (*angl. False Positive Rate &ndash; FPR*), kjer je $i$-ti element delež lažno pozitivnih za vrednosti biomarkerjev >= `thresholds[i]`;  `tpr`, naraščujoč vektor deležev pravilno razvrščenih pozitivnih primerov (*angl. True Positive Rate &ndash; TPR*), kjer je $i$-ti element delež dejansko pozitivnih za vrednosti biomarkerjev >= `thresholds[i]`; in `threshold` tipa `array`, padajoč vektor pražnih vrednosti, ki jih uporabimo za izračun `tpr` in `fpr`. `thresholds[0]` predstavlja primer brez napovedi in ga nastavite na `max(y_score) + 1`.\n",
    "  \n",
    " * Funkcijo ROC uporabite za vrednosti biomarkerja `avsv` ob prvem obisku. Izračunajte površino pod krivuljo z uporabo funkcije `auc` knjižnice `sklearn.metrics`.\n",
    "\n",
    " * Izhod funkcije ROC prikažite še grafično, kjer na x os izrišete 'False Positive Rate', na y os pa 'True Positive Rate'. Na grafu izrišite še premico $y=x$. \n",
    " * Kakšna je sposobnost klasifikatorja, ki mu pripada premica $y=x$ in kakšna je vrednost AUC v tem primeru? Kakšna krivulja ustreza klasifikatorju, ki pravilno klasificira vsak primer in kakšna je njena vrednost AUC?"
   ]
  },
  {
   "cell_type": "code",
   "execution_count": null,
   "metadata": {
    "nbgrader": {
     "grade": true,
     "grade_id": "cell-c39ad5b25728c88e",
     "locked": false,
     "points": 10,
     "schema_version": 3,
     "solution": true,
     "task": false
    },
    "scrolled": true
   },
   "outputs": [],
   "source": [
    "def ROC(y_true, y_score):\n",
    "    # BEGIN SOLUTION\n",
    "    y_true = np.array(y_true)\n",
    "    y_score = np.array(y_score) \n",
    "    # razvrstimo vrednosti biomarkerja padajoče in razvrstimo pripadajoče binarme značke\n",
    "    desc_score_indices = np.argsort(y_score, kind=\"mergesort\")[::-1]\n",
    "    y_score = y_score[desc_score_indices]\n",
    "    y_true = y_true[desc_score_indices]\n",
    "    \n",
    "    # y_score ima lahko več ponavljaločih vrednosti. Oznacimo indekse unikatnih vrednosti. \n",
    "    # Pripnemo vrednost za konec krivulje. \n",
    "    distinct_value_indices = np.where(np.diff(y_score))[0]  # indeksi unikatnih: razlika med sosednjima ni 0\n",
    "    threshold_idxs = np.r_[distinct_value_indices, y_true.size - 1]\n",
    "    thresholds = y_score[threshold_idxs]\n",
    "    thresholds = np.r_[thresholds[0] + 1, thresholds]\n",
    "    \n",
    "    # seštejemo (komulativna vsota) število + pojavitev do praga\n",
    "    tps = np.cumsum(y_true * 1.0)[threshold_idxs]\n",
    "    fps = 1 + threshold_idxs - tps\n",
    "    \n",
    "    tpr = np.r_[0, tps] / np.sum(y_true)\n",
    "    fpr = np.r_[0, fps] / (len(y_true) - np.sum(y_true))\n",
    "    \n",
    "\n",
    "    print(fpr)  \n",
    "    print(tpr)\n",
    "    print(thresholds)\n",
    "    # END SOLUTION\n",
    "    return fpr, tpr, thresholds\n",
    "\n"
   ]
  },
  {
   "cell_type": "code",
   "execution_count": null,
   "metadata": {
    "nbgrader": {
     "grade": true,
     "grade_id": "cell-bd9a6f3fa20ebfbd",
     "locked": false,
     "points": 5,
     "schema_version": 3,
     "solution": true,
     "task": false
    }
   },
   "outputs": [],
   "source": [
    "# ROC PLOT\n",
    "# BEGIN SOLUTION \n",
    "# END SOLUTION"
   ]
  },
  {
   "cell_type": "markdown",
   "metadata": {
    "nbgrader": {
     "grade": false,
     "grade_id": "cell-e194a8ca14ce3fe1",
     "locked": true,
     "schema_version": 3,
     "solution": false,
     "task": false
    }
   },
   "source": [
    "**Kakšna je sposobnost klasifikatorja, ki ji pripada krivulja $x=y$ in kakšna je vrednost AUC v tem primeru? Kakšna krivulja ustreza klasifikatorju, ki pravilno klasificira vsak primer in kakšna je njena vrednost AUC?**"
   ]
  },
  {
   "cell_type": "markdown",
   "metadata": {
    "nbgrader": {
     "grade": true,
     "grade_id": "cell-288e79b631976792",
     "locked": false,
     "points": 5,
     "schema_version": 3,
     "solution": true,
     "task": false
    }
   },
   "source": [
    "**YOUR ANSWER HERE**"
   ]
  },
  {
   "cell_type": "markdown",
   "metadata": {
    "nbgrader": {
     "grade": false,
     "grade_id": "cell-02fa11f72091e832",
     "locked": true,
     "schema_version": 3,
     "solution": false,
     "task": false
    }
   },
   "source": [
    "2. S funkcijo [`violinplot`](https://seaborn.pydata.org/generated/seaborn.violinplot.html) knjižnice [`seaborn`](https://seaborn.pydata.org) izrišite violinski diagram vrednosti šestih izločenih morfoloških meritev anevrizem ob prvem obisku ter določite meritev, ki je najbolj primerna kot prognostični biomarker rasti anevrizme. Za delo uporabite podatke, ki ste jih ustrezno preoblikovali v objekt tipa `DataFrame` knjižnice [`pandas`](https://pandas.pydata.org/pandas-docs/stable/reference/api/pandas.DataFrame.html) (vaje, 5. naloga).\n",
    "\n",
    " Knjižnico `seaborn` najprej naložite v vaše Jupiter okolje na sledeči način: V zavihku **Files** glavnega okna spletnega vmesnika **Jupyter** s klikom na **New > Terminal** odprite okno terminala. Knjižnico naložite z ukazom:\n",
    "```{bash}\n",
    "$ pip install seaborn --user\n",
    "```\n",
    " * Z uporabo funkcije `violinplot` izrišite violinski diagram vseh šestih meritev, kjer naj leva in desna stran diagrama za posamezno spremenljivko predstavljata avtomatski in ročni zajem meritev (`auto`, `manual`). Pomagajte si z [dokumentacijo](https://seaborn.pydata.org/generated/seaborn.violinplot.html). Primer takšnega grafa na podatkih stroškov kadilcev in nekadilcev je podan spodaj. \n",
    " * Komentirajte grafični prikaz. Primerjajte violinski in škatelni diagram. Kakšne informacije o podatkih lahko razberemo iz prvega in kakšne iz drugega? (Izris škatelnega diagrama ni potreben) \n",
    "\n",
    "<img src=\"images/violinplot.png\" alt=\"Violin Plot Seaborn\" align=\"left\" style=\"float;width: 400px;\"/>\n",
    "\n",
    " * Izmed vseh šestih **avtomatsko izločenih** morfoloških meritev anevrizem **ob prvem obisku** določite tisto, ki je najbolj primerna kot prognostični biomarker rasti anevrizme. Katero metriko ste uporabili ter kakšna je njena vrednost? Rezultate komentirajte.\n",
    " \n"
   ]
  },
  {
   "cell_type": "code",
   "execution_count": null,
   "metadata": {
    "nbgrader": {
     "grade": true,
     "grade_id": "cell-f1ef545e593edd96",
     "locked": false,
     "points": 15,
     "schema_version": 3,
     "solution": true,
     "task": false
    },
    "scrolled": true
   },
   "outputs": [],
   "source": [
    "# BEGIN SOLUTION\n",
    "\n",
    "# END SOLUTION"
   ]
  },
  {
   "cell_type": "markdown",
   "metadata": {
    "nbgrader": {
     "grade": false,
     "grade_id": "cell-faa27c7ffb5a02a6",
     "locked": true,
     "schema_version": 3,
     "solution": false,
     "task": false
    }
   },
   "source": [
    "3. V prejšnji nalogi ste določili meritev, ki je najbolj primerna kot prognostični biomarker rasti anevrizme. Nadalje želimo preveriti **spremembo** izbrane morfološke meritve anevrizme $MA$ med prvim in kontrolnim pregledom ter spremembo statistično ovrednotiti. Za reševanje naloge zopet uporabite le avtomatsko zajete vrednosti označevalcev. \n",
    " * Izrišite violinski in škatelni diagram izbrane spremenljivke ob prvem in kontrolnem obisku za vse anevrizme (rastoče in nerastoče) skupaj. \n",
    " * **Spremembe vrednosti biomarkerja** med prvim in drugim obiskom želimo statistično ovrednotiti. Kateri parametrični in neparametrični test uporabimo v tem primeru? Kakšni sta ničelna in alternativna hipoteza parametričnega in neparametričnega testa?\n",
    " * Preden uporabite zgoraj omenjene statistične teste, preverite predpostavko o normalnosti porazdelitve razlik (zopet za vse anevrizme skupaj). Uporabite ustrezni statistični test in ga **poimenujte**. Kakšna je ničelna hipoteza testa? Pomagajte si še z izrisom grafa kvantilov ter izrisanima grafoma v prvi točki. Interpretirajte rezultate statističnega testa in vizualnega prikaza. \n",
    " * Hipotezo za spremenljivko $MA$ preverite z uporabo ustreznega neparametričnega testa in, v kolikor niste zavrnili predpostavke o normalnosti, še z uporabo parametričnega testa. Intrepretirajte rezultate statističnih testov. \n"
   ]
  },
  {
   "cell_type": "code",
   "execution_count": null,
   "metadata": {
    "nbgrader": {
     "grade": true,
     "grade_id": "cell-c3543fa0254cccdc",
     "locked": false,
     "points": 20,
     "schema_version": 3,
     "solution": true,
     "task": false
    },
    "scrolled": true
   },
   "outputs": [],
   "source": [
    "# BEGIN SOLUTION\n",
    "# END SOLUTION"
   ]
  },
  {
   "cell_type": "code",
   "execution_count": null,
   "metadata": {},
   "outputs": [],
   "source": []
  }
 ],
 "metadata": {
  "celltoolbar": "Create Assignment",
  "kernelspec": {
   "display_name": "Python 3",
   "language": "python",
   "name": "python3"
  },
  "language_info": {
   "codemirror_mode": {
    "name": "ipython",
    "version": 3
   },
   "file_extension": ".py",
   "mimetype": "text/x-python",
   "name": "python",
   "nbconvert_exporter": "python",
   "pygments_lexer": "ipython3",
   "version": "3.6.9"
  }
 },
 "nbformat": 4,
 "nbformat_minor": 2
}
