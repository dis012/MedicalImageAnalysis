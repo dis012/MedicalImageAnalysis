{
 "cells": [
  {
   "cell_type": "markdown",
   "metadata": {
    "nbgrader": {
     "grade": false,
     "grade_id": "cell-736c05ab1340a5df",
     "locked": true,
     "schema_version": 3,
     "solution": false,
     "task": false
    }
   },
   "source": [
    "## Dodatne naloge\n",
    "Dodatne naloge naj služijo za poglobitev spretnosti programiranja, boljšemu razumevanju snovi in vsebine vaje in spoznavanju dodatnih načinov za obdelavo in analizo medicinskih slik. Opravljanje dodatnih nalog je neobvezno, vendar pa priporočljivo, saj je na nek način to priprava na zagovor laboratorijskih vaj.\n",
    "\n",
    "Z uporabo orodij za vrednotenje biomarkerjev odgovorite na naslednji vprašanji:"
   ]
  },
  {
   "cell_type": "markdown",
   "metadata": {
    "nbgrader": {
     "grade": false,
     "grade_id": "cell-35f184c6e7ec10cc",
     "locked": true,
     "schema_version": 3,
     "solution": false,
     "task": false
    }
   },
   "source": [
    "1. Izmed vseh šestih morfoloških meritev anevrizem določite tisto, ki je najbolj primerna kot prognostični biomarker rasti anevrizme. Ovrednotite tudi sposobnost reprodukcije biomarkerja."
   ]
  },
  {
   "cell_type": "code",
   "execution_count": null,
   "metadata": {
    "nbgrader": {
     "grade": true,
     "grade_id": "cell-f95ec745155e1363",
     "locked": false,
     "points": 0,
     "schema_version": 3,
     "solution": true,
     "task": false
    }
   },
   "outputs": [],
   "source": [
    "# YOUR ANSWER HERE"
   ]
  },
  {
   "cell_type": "markdown",
   "metadata": {
    "nbgrader": {
     "grade": false,
     "grade_id": "cell-bc33e3d615e438e7",
     "locked": true,
     "schema_version": 3,
     "solution": false,
     "task": false
    }
   },
   "source": [
    "2. Na podlagi analize sprememb posameznih morfoloških meritev anevrizem določite biomarker, ki je najbolj primeren kot nadomestni biomarker rasti anevrizme. Preverite ali je smiselno upoštevati razliko v času med preiskavama. Ovrednotite tudi sposobnost reprodukcije biomarkerja."
   ]
  },
  {
   "cell_type": "code",
   "execution_count": null,
   "metadata": {
    "nbgrader": {
     "grade": true,
     "grade_id": "cell-fd23dcaaa750c39e",
     "locked": false,
     "points": 0,
     "schema_version": 3,
     "solution": true,
     "task": false
    }
   },
   "outputs": [],
   "source": [
    "# YOUR ANSWER HERE"
   ]
  },
  {
   "cell_type": "markdown",
   "metadata": {
    "nbgrader": {
     "grade": false,
     "grade_id": "cell-02fa11f72091e832",
     "locked": true,
     "schema_version": 3,
     "solution": false,
     "task": false
    }
   },
   "source": [
    "3. S funkcijo [`violinplot`](https://seaborn.pydata.org/generated/seaborn.violinplot.html) knjižnice [`seaborn`](https://seaborn.pydata.org) izrišite violinski diagram vrednosti šestih izločenih morfoloških meritev anevrizem ob prvem obisku ter določite meritev, ki je najbolj primerna kot prognostični biomarker rasti anevrizme. \n",
    "\n",
    " Knjižnico `seaborn` najprej naložite v vaše Jupiter okolje na sledeči način: V zavihku **Files** glavnega okna spletnega vmesnika **Jupyter** s klikom na **New > Terminal** odprite okno terminala. Knjižnico naložite z ukazom:\n",
    "```{bash}\n",
    "$ pip install seaborn --user\n",
    "```\n",
    " * Podatke ustrezno preoblikujte v objekt tipa `DataFrame` knjižnice [`pandas`](https://pandas.pydata.org/pandas-docs/stable/reference/api/pandas.DataFrame.html).\n",
    " * Z uporabo funkcije `violinplot` izrišite violinski diagram vseh šestih meritev, kjer naj leva in desna stran diagrama za posamezno spremenljivko predstavljata avtomatski in ročni zajem meritev (`auto`, `manual`). Primer takšnega grafa na podatkih stroškov kadilcev in nekadilcev je podan spodaj. Komentirajte grafični prikaz. Primerjajte violinski in škatelni diagram. Kakšne informacije o podatkih lahko razberemo iz prvega in kakšne iz drugega? \n",
    "\n",
    "<img src=\"images/violinplot.png\" alt=\"Violin Plot Seaborn\" align=\"left\" style=\"float;width: 400px;\"/>\n"
   ]
  },
  {
   "cell_type": "code",
   "execution_count": null,
   "metadata": {
    "nbgrader": {
     "grade": true,
     "grade_id": "cell-49aa1686804ce2a1",
     "locked": false,
     "points": 0,
     "schema_version": 3,
     "solution": true,
     "task": false
    }
   },
   "outputs": [],
   "source": [
    "# BEGIN SOLUTION\n",
    "\n",
    "\n",
    "\n",
    "# END SOLUTION"
   ]
  }
 ],
 "metadata": {
  "celltoolbar": "Create Assignment",
  "kernelspec": {
   "display_name": "Python 3",
   "language": "python",
   "name": "python3"
  },
  "language_info": {
   "codemirror_mode": {
    "name": "ipython",
    "version": 3
   },
   "file_extension": ".py",
   "mimetype": "text/x-python",
   "name": "python",
   "nbconvert_exporter": "python",
   "pygments_lexer": "ipython3",
   "version": "3.6.9"
  }
 },
 "nbformat": 4,
 "nbformat_minor": 2
}
